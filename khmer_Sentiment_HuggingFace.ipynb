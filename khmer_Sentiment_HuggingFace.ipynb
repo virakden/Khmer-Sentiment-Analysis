{
 "cells": [
  {
   "cell_type": "markdown",
   "id": "a4f9d22b",
   "metadata": {},
   "source": [
    "## 📌 Khmer Sentiment Analysis using Pretrained Hugging Face Model\n",
    "## Based on Open-Source Model: tykea/khmer-text-sentiment-analysis-roberta"
   ]
  },
  {
   "cell_type": "code",
   "execution_count": 20,
   "id": "beffa846",
   "metadata": {},
   "outputs": [
    {
     "name": "stderr",
     "output_type": "stream",
     "text": [
      "huggingface/tokenizers: The current process just got forked, after parallelism has already been used. Disabling parallelism to avoid deadlocks...\n",
      "To disable this warning, you can either:\n",
      "\t- Avoid using `tokenizers` before the fork if possible\n",
      "\t- Explicitly set the environment variable TOKENIZERS_PARALLELISM=(true | false)\n"
     ]
    }
   ],
   "source": [
    "# Install Required Libraries\n",
    "!pip install transformers datasets torch --quiet\n"
   ]
  },
  {
   "cell_type": "code",
   "execution_count": 21,
   "id": "b90aa967",
   "metadata": {},
   "outputs": [],
   "source": [
    "# Import Libraries\n",
    "from transformers import AutoTokenizer, AutoModelForSequenceClassification, pipeline\n",
    "import pandas as pd\n"
   ]
  },
  {
   "cell_type": "code",
   "execution_count": 22,
   "id": "439e749c",
   "metadata": {},
   "outputs": [
    {
     "name": "stderr",
     "output_type": "stream",
     "text": [
      "Device set to use mps:0\n"
     ]
    }
   ],
   "source": [
    "# Load Pretrained Khmer Sentiment Model\n",
    "model_name = \"tykea/khmer-text-sentiment-analysis-roberta\"\n",
    "\n",
    "tokenizer = AutoTokenizer.from_pretrained(model_name)\n",
    "model = AutoModelForSequenceClassification.from_pretrained(model_name)\n",
    "\n",
    "khmer_sentiment = pipeline(\"sentiment-analysis\", model=model, tokenizer=tokenizer)\n"
   ]
  },
  {
   "cell_type": "code",
   "execution_count": 23,
   "id": "ce7a1fd1",
   "metadata": {},
   "outputs": [
    {
     "name": "stdout",
     "output_type": "stream",
     "text": [
      "📝 Text: ខ្ញុំស្រលាញ់ការសេវាកម្មនេះ។\n",
      "🔍 Prediction: [{'label': 'LABEL_1', 'score': 0.9864945411682129}]\n",
      "\n",
      "📝 Text: ផលិតផលមិនល្អឡើយ។\n",
      "🔍 Prediction: [{'label': 'LABEL_0', 'score': 0.965076744556427}]\n",
      "\n",
      "📝 Text: ការដឹកជញ្ជូនយឺតបន្តិច។\n",
      "🔍 Prediction: [{'label': 'LABEL_0', 'score': 0.8326029777526855}]\n",
      "\n"
     ]
    }
   ],
   "source": [
    "# Test Sample Khmer Sentences\n",
    "sample_texts = [\n",
    "    \"ខ្ញុំស្រលាញ់ការសេវាកម្មនេះ។\",  # I love this service.\n",
    "    \"ផលិតផលមិនល្អឡើយ។\",  # The product is not good.\n",
    "    \"ការដឹកជញ្ជូនយឺតបន្តិច។\",  # Delivery is a bit slow.\n",
    "]\n",
    "\n",
    "for text in sample_texts:\n",
    "    result = khmer_sentiment(text)\n",
    "    print(f\"📝 Text: {text}\\n🔍 Prediction: {result}\\n\")\n"
   ]
  },
  {
   "cell_type": "code",
   "execution_count": 24,
   "id": "e590c5d7",
   "metadata": {},
   "outputs": [
    {
     "data": {
      "text/html": [
       "<div>\n",
       "<style scoped>\n",
       "    .dataframe tbody tr th:only-of-type {\n",
       "        vertical-align: middle;\n",
       "    }\n",
       "\n",
       "    .dataframe tbody tr th {\n",
       "        vertical-align: top;\n",
       "    }\n",
       "\n",
       "    .dataframe thead th {\n",
       "        text-align: right;\n",
       "    }\n",
       "</style>\n",
       "<table border=\"1\" class=\"dataframe\">\n",
       "  <thead>\n",
       "    <tr style=\"text-align: right;\">\n",
       "      <th></th>\n",
       "      <th>Review</th>\n",
       "      <th>SENTIMEN</th>\n",
       "      <th>predicted_sentiment</th>\n",
       "    </tr>\n",
       "  </thead>\n",
       "  <tbody>\n",
       "    <tr>\n",
       "      <th>0</th>\n",
       "      <td>ខ្ញុំស្រលាញ់ផលិតផលនេះ។</td>\n",
       "      <td>positive</td>\n",
       "      <td>LABEL_1</td>\n",
       "    </tr>\n",
       "    <tr>\n",
       "      <th>1</th>\n",
       "      <td>សេវាកម្មល្អណាស់។</td>\n",
       "      <td>positive</td>\n",
       "      <td>LABEL_1</td>\n",
       "    </tr>\n",
       "    <tr>\n",
       "      <th>2</th>\n",
       "      <td>ខ្ញុំពេញចិត្តជាមួយនឹងការទិញនេះ។</td>\n",
       "      <td>positive</td>\n",
       "      <td>LABEL_1</td>\n",
       "    </tr>\n",
       "    <tr>\n",
       "      <th>3</th>\n",
       "      <td>វាជាបទពិសោធន៍ដ៏អស្ចារ្យ។</td>\n",
       "      <td>positive</td>\n",
       "      <td>LABEL_1</td>\n",
       "    </tr>\n",
       "    <tr>\n",
       "      <th>4</th>\n",
       "      <td>ការផ្តល់សេវាជួសជុលលឿន និងមានប្រសិទ្ធភាព។</td>\n",
       "      <td>positive</td>\n",
       "      <td>LABEL_1</td>\n",
       "    </tr>\n",
       "  </tbody>\n",
       "</table>\n",
       "</div>"
      ],
      "text/plain": [
       "                                     Review  SENTIMEN predicted_sentiment\n",
       "0                    ខ្ញុំស្រលាញ់ផលិតផលនេះ។  positive             LABEL_1\n",
       "1                          សេវាកម្មល្អណាស់។  positive             LABEL_1\n",
       "2           ខ្ញុំពេញចិត្តជាមួយនឹងការទិញនេះ។  positive             LABEL_1\n",
       "3                  វាជាបទពិសោធន៍ដ៏អស្ចារ្យ។  positive             LABEL_1\n",
       "4  ការផ្តល់សេវាជួសជុលលឿន និងមានប្រសិទ្ធភាព។  positive             LABEL_1"
      ]
     },
     "execution_count": 24,
     "metadata": {},
     "output_type": "execute_result"
    }
   ],
   "source": [
    "import pandas as pd\n",
    "df = pd.read_csv(\"khmer_sentiment_sample.csv\")\n",
    "\n",
    "# Predict sentiment for all reviews\n",
    "df[\"predicted_sentiment\"] = df[\"Review\"].apply(lambda x: khmer_sentiment(x)[0][\"label\"])\n",
    "\n",
    "df.head()\n"
   ]
  },
  {
   "cell_type": "code",
   "execution_count": 25,
   "id": "37b58667",
   "metadata": {},
   "outputs": [
    {
     "data": {
      "text/html": [
       "<div>\n",
       "<style scoped>\n",
       "    .dataframe tbody tr th:only-of-type {\n",
       "        vertical-align: middle;\n",
       "    }\n",
       "\n",
       "    .dataframe tbody tr th {\n",
       "        vertical-align: top;\n",
       "    }\n",
       "\n",
       "    .dataframe thead th {\n",
       "        text-align: right;\n",
       "    }\n",
       "</style>\n",
       "<table border=\"1\" class=\"dataframe\">\n",
       "  <thead>\n",
       "    <tr style=\"text-align: right;\">\n",
       "      <th></th>\n",
       "      <th>Review</th>\n",
       "      <th>SENTIMEN</th>\n",
       "      <th>predicted_sentiment</th>\n",
       "    </tr>\n",
       "  </thead>\n",
       "  <tbody>\n",
       "    <tr>\n",
       "      <th>0</th>\n",
       "      <td>ខ្ញុំស្រលាញ់ផលិតផលនេះ។</td>\n",
       "      <td>positive</td>\n",
       "      <td>LABEL_1</td>\n",
       "    </tr>\n",
       "    <tr>\n",
       "      <th>1</th>\n",
       "      <td>សេវាកម្មល្អណាស់។</td>\n",
       "      <td>positive</td>\n",
       "      <td>LABEL_1</td>\n",
       "    </tr>\n",
       "    <tr>\n",
       "      <th>2</th>\n",
       "      <td>ខ្ញុំពេញចិត្តជាមួយនឹងការទិញនេះ។</td>\n",
       "      <td>positive</td>\n",
       "      <td>LABEL_1</td>\n",
       "    </tr>\n",
       "    <tr>\n",
       "      <th>3</th>\n",
       "      <td>វាជាបទពិសោធន៍ដ៏អស្ចារ្យ។</td>\n",
       "      <td>positive</td>\n",
       "      <td>LABEL_1</td>\n",
       "    </tr>\n",
       "    <tr>\n",
       "      <th>4</th>\n",
       "      <td>ការផ្តល់សេវាជួសជុលលឿន និងមានប្រសិទ្ធភាព។</td>\n",
       "      <td>positive</td>\n",
       "      <td>LABEL_1</td>\n",
       "    </tr>\n",
       "    <tr>\n",
       "      <th>5</th>\n",
       "      <td>ខ្ញុំសូមណែនាំឲ្យមនុស្សផ្សេងទៀត។</td>\n",
       "      <td>positive</td>\n",
       "      <td>LABEL_1</td>\n",
       "    </tr>\n",
       "    <tr>\n",
       "      <th>6</th>\n",
       "      <td>ផលិតផលមានគុណភាពខ្ពស់។</td>\n",
       "      <td>positive</td>\n",
       "      <td>LABEL_1</td>\n",
       "    </tr>\n",
       "    <tr>\n",
       "      <th>7</th>\n",
       "      <td>វាមានតម្លៃសមរម្យនឹងគុណភាព។</td>\n",
       "      <td>positive</td>\n",
       "      <td>LABEL_1</td>\n",
       "    </tr>\n",
       "    <tr>\n",
       "      <th>8</th>\n",
       "      <td>សេវាកម្មអតិថិជនល្អណាស់។</td>\n",
       "      <td>positive</td>\n",
       "      <td>LABEL_1</td>\n",
       "    </tr>\n",
       "    <tr>\n",
       "      <th>9</th>\n",
       "      <td>បុគ្គលិករួសរាយរាក់ទាក់។</td>\n",
       "      <td>positive</td>\n",
       "      <td>LABEL_1</td>\n",
       "    </tr>\n",
       "    <tr>\n",
       "      <th>10</th>\n",
       "      <td>ខ្ញុំមិនពេញចិត្តនឹងផលិតផលទេ។</td>\n",
       "      <td>negative</td>\n",
       "      <td>LABEL_0</td>\n",
       "    </tr>\n",
       "    <tr>\n",
       "      <th>11</th>\n",
       "      <td>វាធ្វើអោយខ្ញុំខកចិត្តខ្លាំង។</td>\n",
       "      <td>negative</td>\n",
       "      <td>LABEL_0</td>\n",
       "    </tr>\n",
       "    <tr>\n",
       "      <th>12</th>\n",
       "      <td>សេវាកម្មយឺតពេក។</td>\n",
       "      <td>negative</td>\n",
       "      <td>LABEL_0</td>\n",
       "    </tr>\n",
       "    <tr>\n",
       "      <th>13</th>\n",
       "      <td>មិនសូវមានគុណភាពឡើយ។</td>\n",
       "      <td>negative</td>\n",
       "      <td>LABEL_0</td>\n",
       "    </tr>\n",
       "    <tr>\n",
       "      <th>14</th>\n",
       "      <td>វាអស់លុយឥតប្រយោជន៍។</td>\n",
       "      <td>negative</td>\n",
       "      <td>LABEL_0</td>\n",
       "    </tr>\n",
       "  </tbody>\n",
       "</table>\n",
       "</div>"
      ],
      "text/plain": [
       "                                      Review  SENTIMEN predicted_sentiment\n",
       "0                     ខ្ញុំស្រលាញ់ផលិតផលនេះ។  positive             LABEL_1\n",
       "1                           សេវាកម្មល្អណាស់។  positive             LABEL_1\n",
       "2            ខ្ញុំពេញចិត្តជាមួយនឹងការទិញនេះ។  positive             LABEL_1\n",
       "3                   វាជាបទពិសោធន៍ដ៏អស្ចារ្យ។  positive             LABEL_1\n",
       "4   ការផ្តល់សេវាជួសជុលលឿន និងមានប្រសិទ្ធភាព។  positive             LABEL_1\n",
       "5            ខ្ញុំសូមណែនាំឲ្យមនុស្សផ្សេងទៀត។  positive             LABEL_1\n",
       "6                      ផលិតផលមានគុណភាពខ្ពស់។  positive             LABEL_1\n",
       "7                 វាមានតម្លៃសមរម្យនឹងគុណភាព។  positive             LABEL_1\n",
       "8                    សេវាកម្មអតិថិជនល្អណាស់។  positive             LABEL_1\n",
       "9                    បុគ្គលិករួសរាយរាក់ទាក់។  positive             LABEL_1\n",
       "10              ខ្ញុំមិនពេញចិត្តនឹងផលិតផលទេ។  negative             LABEL_0\n",
       "11              វាធ្វើអោយខ្ញុំខកចិត្តខ្លាំង។  negative             LABEL_0\n",
       "12                           សេវាកម្មយឺតពេក។  negative             LABEL_0\n",
       "13                       មិនសូវមានគុណភាពឡើយ។  negative             LABEL_0\n",
       "14                       វាអស់លុយឥតប្រយោជន៍។  negative             LABEL_0"
      ]
     },
     "execution_count": 25,
     "metadata": {},
     "output_type": "execute_result"
    }
   ],
   "source": [
    "# Predict Sentiment for All Reviews\n",
    "df[\"predicted_sentiment\"] = df[\"Review\"].apply(lambda x: khmer_sentiment(x)[0][\"label\"])\n",
    "\n",
    "df.head(15)\n"
   ]
  },
  {
   "cell_type": "code",
   "execution_count": 26,
   "id": "0ebf84b6",
   "metadata": {},
   "outputs": [
    {
     "name": "stdout",
     "output_type": "stream",
     "text": [
      "Predicted unique labels: ['LABEL_1' 'LABEL_0']\n",
      "True unique labels: ['positive' 'negative']\n"
     ]
    }
   ],
   "source": [
    "print(\"Predicted unique labels:\", df[\"predicted_sentiment\"].unique())\n",
    "print(\"True unique labels:\", df[\"SENTIMEN\"].unique())\n"
   ]
  },
  {
   "cell_type": "code",
   "execution_count": 27,
   "id": "485b942d",
   "metadata": {},
   "outputs": [
    {
     "name": "stdout",
     "output_type": "stream",
     "text": [
      "✅ Prediction results saved to: dataset/predicted_khmer_sentiment.csv\n"
     ]
    }
   ],
   "source": [
    "# Save Results\n",
    "df.to_csv(\"predicted_khmer_sentiment.csv\", index=False)\n",
    "print(\"✅ Prediction results saved to: dataset/predicted_khmer_sentiment.csv\")\n"
   ]
  },
  {
   "cell_type": "code",
   "execution_count": 28,
   "id": "44224db9",
   "metadata": {},
   "outputs": [],
   "source": [
    "label_map = {\n",
    "    \"LABEL_0\": \"negative\",\n",
    "    \"LABEL_1\": \"positive\",\n",
    "    \"negative\": \"negative\",\n",
    "    \"positive\": \"positive\",\n",
    "}\n",
    "df[\"predicted_sentiment_fixed\"] = df[\"predicted_sentiment\"].map(label_map)\n"
   ]
  },
  {
   "cell_type": "code",
   "execution_count": 29,
   "id": "f0857151",
   "metadata": {},
   "outputs": [],
   "source": [
    "df[\"SENTIMEN\"] = df[\"SENTIMEN\"].str.lower()\n",
    "df[\"predicted_sentiment_fixed\"] = df[\"predicted_sentiment_fixed\"].str.lower()\n"
   ]
  },
  {
   "cell_type": "code",
   "execution_count": null,
   "id": "56e23aab",
   "metadata": {},
   "outputs": [
    {
     "name": "stdout",
     "output_type": "stream",
     "text": [
      "              precision    recall  f1-score   support\n",
      "\n",
      "    negative       0.96      0.93      0.95        28\n",
      "    positive       0.90      0.95      0.93        20\n",
      "\n",
      "    accuracy                           0.94        48\n",
      "   macro avg       0.93      0.94      0.94        48\n",
      "weighted avg       0.94      0.94      0.94        48\n",
      "\n"
     ]
    }
   ],
   "source": [
    "# Evaluate Accuracy\n",
    "from sklearn.metrics import classification_report\n",
    "\n",
    "print(classification_report(df[\"SENTIMEN\"], df[\"predicted_sentiment_fixed\"]))\n"
   ]
  },
  {
   "cell_type": "code",
   "execution_count": 31,
   "id": "00cc71d6",
   "metadata": {},
   "outputs": [
    {
     "data": {
      "image/png": "[encoded data removed]",
      "text/plain": [
       "<Figure size 640x480 with 2 Axes>"
      ]
     },
     "metadata": {},
     "output_type": "display_data"
    }
   ],
   "source": [
    "import matplotlib.pyplot as plt\n",
    "from sklearn.metrics import confusion_matrix, ConfusionMatrixDisplay\n",
    "\n",
    "cm = confusion_matrix(\n",
    "    df[\"SENTIMEN\"], df[\"predicted_sentiment_fixed\"], labels=[\"positive\", \"negative\"]\n",
    ")\n",
    "disp = ConfusionMatrixDisplay(\n",
    "    confusion_matrix=cm, display_labels=[\"positive\", \"negative\"]\n",
    ")\n",
    "disp.plot(cmap=\"Blues\")\n",
    "plt.title(\"Confusion Matrix (Hugging Face Model)\")\n",
    "plt.show()\n"
   ]
  }
 ],
 "metadata": {
  "kernelspec": {
   "display_name": "kh-sentiment",
   "language": "python",
   "name": "python3"
  },
  "language_info": {
   "codemirror_mode": {
    "name": "ipython",
    "version": 3
   },
   "file_extension": ".py",
   "mimetype": "text/x-python",
   "name": "python",
   "nbconvert_exporter": "python",
   "pygments_lexer": "ipython3",
   "version": "3.11.8"
  }
 },
 "nbformat": 4,
 "nbformat_minor": 5
}
