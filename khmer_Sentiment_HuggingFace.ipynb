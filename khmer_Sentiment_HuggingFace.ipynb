{
 "cells": [
  {
   "cell_type": "markdown",
   "id": "a4f9d22b",
   "metadata": {},
   "source": [
    "## 📌 Khmer Sentiment Analysis using Pretrained Hugging Face Model\n",
    "## Based on Open-Source Model: tykea/khmer-text-sentiment-analysis-roberta"
   ]
  },
  {
   "cell_type": "code",
   "execution_count": 1,
   "id": "beffa846",
   "metadata": {},
   "outputs": [],
   "source": [
    "# Install Required Libraries\n",
    "!pip install transformers datasets torch --quiet\n"
   ]
  },
  {
   "cell_type": "code",
   "execution_count": 2,
   "id": "b90aa967",
   "metadata": {},
   "outputs": [
    {
     "name": "stderr",
     "output_type": "stream",
     "text": [
      "/opt/miniconda3/envs/kh-sentiment/lib/python3.11/site-packages/tqdm/auto.py:21: TqdmWarning: IProgress not found. Please update jupyter and ipywidgets. See https://ipywidgets.readthedocs.io/en/stable/user_install.html\n",
      "  from .autonotebook import tqdm as notebook_tqdm\n"
     ]
    }
   ],
   "source": [
    "# Import Libraries\n",
    "from transformers import AutoTokenizer, AutoModelForSequenceClassification, pipeline\n",
    "import pandas as pd\n"
   ]
  },
  {
   "cell_type": "code",
   "execution_count": 3,
   "id": "439e749c",
   "metadata": {},
   "outputs": [
    {
     "name": "stderr",
     "output_type": "stream",
     "text": [
      "Device set to use mps:0\n"
     ]
    }
   ],
   "source": [
    "# Load Pretrained Khmer Sentiment Model\n",
    "model_name = \"tykea/khmer-text-sentiment-analysis-roberta\"\n",
    "\n",
    "tokenizer = AutoTokenizer.from_pretrained(model_name)\n",
    "model = AutoModelForSequenceClassification.from_pretrained(model_name)\n",
    "\n",
    "khmer_sentiment = pipeline(\"sentiment-analysis\", model=model, tokenizer=tokenizer)\n"
   ]
  },
  {
   "cell_type": "code",
   "execution_count": 4,
   "id": "ce7a1fd1",
   "metadata": {},
   "outputs": [
    {
     "name": "stdout",
     "output_type": "stream",
     "text": [
      "📝 Text: ខ្ញុំស្រលាញ់ការសេវាកម្មនេះ។\n",
      "🔍 Prediction: [{'label': 'LABEL_1', 'score': 0.9864945411682129}]\n",
      "\n",
      "📝 Text: ផលិតផលមិនល្អឡើយ។\n",
      "🔍 Prediction: [{'label': 'LABEL_0', 'score': 0.965076744556427}]\n",
      "\n",
      "📝 Text: ការដឹកជញ្ជូនយឺតបន្តិច។\n",
      "🔍 Prediction: [{'label': 'LABEL_0', 'score': 0.8326029777526855}]\n",
      "\n"
     ]
    }
   ],
   "source": [
    "# Test Sample Khmer Sentences\n",
    "sample_texts = [\n",
    "    \"ខ្ញុំស្រលាញ់ការសេវាកម្មនេះ។\",  # I love this service.\n",
    "    \"ផលិតផលមិនល្អឡើយ។\",  # The product is not good.\n",
    "    \"ការដឹកជញ្ជូនយឺតបន្តិច។\",  # Delivery is a bit slow.\n",
    "]\n",
    "\n",
    "for text in sample_texts:\n",
    "    result = khmer_sentiment(text)\n",
    "    print(f\"📝 Text: {text}\\n🔍 Prediction: {result}\\n\")\n"
   ]
  },
  {
   "cell_type": "code",
   "execution_count": 10,
   "id": "e590c5d7",
   "metadata": {},
   "outputs": [
    {
     "data": {
      "text/html": [
       "<div>\n",
       "<style scoped>\n",
       "    .dataframe tbody tr th:only-of-type {\n",
       "        vertical-align: middle;\n",
       "    }\n",
       "\n",
       "    .dataframe tbody tr th {\n",
       "        vertical-align: top;\n",
       "    }\n",
       "\n",
       "    .dataframe thead th {\n",
       "        text-align: right;\n",
       "    }\n",
       "</style>\n",
       "<table border=\"1\" class=\"dataframe\">\n",
       "  <thead>\n",
       "    <tr style=\"text-align: right;\">\n",
       "      <th></th>\n",
       "      <th>Review</th>\n",
       "      <th>SENTIMEN</th>\n",
       "      <th>predicted_sentiment</th>\n",
       "    </tr>\n",
       "  </thead>\n",
       "  <tbody>\n",
       "    <tr>\n",
       "      <th>0</th>\n",
       "      <td>ខ្ញុំស្រលាញ់ផលិតផលនេះ។</td>\n",
       "      <td>positive</td>\n",
       "      <td>LABEL_1</td>\n",
       "    </tr>\n",
       "    <tr>\n",
       "      <th>1</th>\n",
       "      <td>សេវាកម្មល្អណាស់។</td>\n",
       "      <td>positive</td>\n",
       "      <td>LABEL_1</td>\n",
       "    </tr>\n",
       "    <tr>\n",
       "      <th>2</th>\n",
       "      <td>ខ្ញុំពេញចិត្តជាមួយនឹងការទិញនេះ។</td>\n",
       "      <td>positive</td>\n",
       "      <td>LABEL_1</td>\n",
       "    </tr>\n",
       "    <tr>\n",
       "      <th>3</th>\n",
       "      <td>វាជាបទពិសោធន៍ដ៏អស្ចារ្យ។</td>\n",
       "      <td>positive</td>\n",
       "      <td>LABEL_1</td>\n",
       "    </tr>\n",
       "    <tr>\n",
       "      <th>4</th>\n",
       "      <td>ការផ្តល់សេវាជួសជុលលឿន និងមានប្រសិទ្ធភាព។</td>\n",
       "      <td>positive</td>\n",
       "      <td>LABEL_1</td>\n",
       "    </tr>\n",
       "  </tbody>\n",
       "</table>\n",
       "</div>"
      ],
      "text/plain": [
       "                                     Review  SENTIMEN predicted_sentiment\n",
       "0                    ខ្ញុំស្រលាញ់ផលិតផលនេះ។  positive             LABEL_1\n",
       "1                          សេវាកម្មល្អណាស់។  positive             LABEL_1\n",
       "2           ខ្ញុំពេញចិត្តជាមួយនឹងការទិញនេះ។  positive             LABEL_1\n",
       "3                  វាជាបទពិសោធន៍ដ៏អស្ចារ្យ។  positive             LABEL_1\n",
       "4  ការផ្តល់សេវាជួសជុលលឿន និងមានប្រសិទ្ធភាព។  positive             LABEL_1"
      ]
     },
     "execution_count": 10,
     "metadata": {},
     "output_type": "execute_result"
    }
   ],
   "source": [
    "import pandas as pd\n",
    "df = pd.read_csv(\"khmer_sentiment_sample.csv\")\n",
    "\n",
    "# Predict sentiment for all reviews\n",
    "df[\"predicted_sentiment\"] = df[\"Review\"].apply(lambda x: khmer_sentiment(x)[0][\"label\"])\n",
    "\n",
    "df.head()\n"
   ]
  },
  {
   "cell_type": "code",
   "execution_count": 18,
   "id": "37b58667",
   "metadata": {},
   "outputs": [
    {
     "data": {
      "text/html": [
       "<div>\n",
       "<style scoped>\n",
       "    .dataframe tbody tr th:only-of-type {\n",
       "        vertical-align: middle;\n",
       "    }\n",
       "\n",
       "    .dataframe tbody tr th {\n",
       "        vertical-align: top;\n",
       "    }\n",
       "\n",
       "    .dataframe thead th {\n",
       "        text-align: right;\n",
       "    }\n",
       "</style>\n",
       "<table border=\"1\" class=\"dataframe\">\n",
       "  <thead>\n",
       "    <tr style=\"text-align: right;\">\n",
       "      <th></th>\n",
       "      <th>Review</th>\n",
       "      <th>SENTIMEN</th>\n",
       "      <th>predicted_sentiment</th>\n",
       "    </tr>\n",
       "  </thead>\n",
       "  <tbody>\n",
       "    <tr>\n",
       "      <th>0</th>\n",
       "      <td>ខ្ញុំស្រលាញ់ផលិតផលនេះ។</td>\n",
       "      <td>positive</td>\n",
       "      <td>LABEL_1</td>\n",
       "    </tr>\n",
       "    <tr>\n",
       "      <th>1</th>\n",
       "      <td>សេវាកម្មល្អណាស់។</td>\n",
       "      <td>positive</td>\n",
       "      <td>LABEL_1</td>\n",
       "    </tr>\n",
       "    <tr>\n",
       "      <th>2</th>\n",
       "      <td>ខ្ញុំពេញចិត្តជាមួយនឹងការទិញនេះ។</td>\n",
       "      <td>positive</td>\n",
       "      <td>LABEL_1</td>\n",
       "    </tr>\n",
       "    <tr>\n",
       "      <th>3</th>\n",
       "      <td>វាជាបទពិសោធន៍ដ៏អស្ចារ្យ។</td>\n",
       "      <td>positive</td>\n",
       "      <td>LABEL_1</td>\n",
       "    </tr>\n",
       "    <tr>\n",
       "      <th>4</th>\n",
       "      <td>ការផ្តល់សេវាជួសជុលលឿន និងមានប្រសិទ្ធភាព។</td>\n",
       "      <td>positive</td>\n",
       "      <td>LABEL_1</td>\n",
       "    </tr>\n",
       "    <tr>\n",
       "      <th>5</th>\n",
       "      <td>ខ្ញុំសូមណែនាំឲ្យមនុស្សផ្សេងទៀត។</td>\n",
       "      <td>positive</td>\n",
       "      <td>LABEL_1</td>\n",
       "    </tr>\n",
       "    <tr>\n",
       "      <th>6</th>\n",
       "      <td>ផលិតផលមានគុណភាពខ្ពស់។</td>\n",
       "      <td>positive</td>\n",
       "      <td>LABEL_1</td>\n",
       "    </tr>\n",
       "    <tr>\n",
       "      <th>7</th>\n",
       "      <td>វាមានតម្លៃសមរម្យនឹងគុណភាព។</td>\n",
       "      <td>positive</td>\n",
       "      <td>LABEL_1</td>\n",
       "    </tr>\n",
       "    <tr>\n",
       "      <th>8</th>\n",
       "      <td>សេវាកម្មអតិថិជនល្អណាស់។</td>\n",
       "      <td>positive</td>\n",
       "      <td>LABEL_1</td>\n",
       "    </tr>\n",
       "    <tr>\n",
       "      <th>9</th>\n",
       "      <td>បុគ្គលិករួសរាយរាក់ទាក់។</td>\n",
       "      <td>positive</td>\n",
       "      <td>LABEL_1</td>\n",
       "    </tr>\n",
       "    <tr>\n",
       "      <th>10</th>\n",
       "      <td>ខ្ញុំមិនពេញចិត្តនឹងផលិតផលទេ។</td>\n",
       "      <td>negative</td>\n",
       "      <td>LABEL_0</td>\n",
       "    </tr>\n",
       "    <tr>\n",
       "      <th>11</th>\n",
       "      <td>វាធ្វើអោយខ្ញុំខកចិត្តខ្លាំង។</td>\n",
       "      <td>negative</td>\n",
       "      <td>LABEL_0</td>\n",
       "    </tr>\n",
       "    <tr>\n",
       "      <th>12</th>\n",
       "      <td>សេវាកម្មយឺតពេក។</td>\n",
       "      <td>negative</td>\n",
       "      <td>LABEL_0</td>\n",
       "    </tr>\n",
       "    <tr>\n",
       "      <th>13</th>\n",
       "      <td>មិនសូវមានគុណភាពឡើយ។</td>\n",
       "      <td>negative</td>\n",
       "      <td>LABEL_0</td>\n",
       "    </tr>\n",
       "    <tr>\n",
       "      <th>14</th>\n",
       "      <td>វាអស់លុយឥតប្រយោជន៍។</td>\n",
       "      <td>negative</td>\n",
       "      <td>LABEL_0</td>\n",
       "    </tr>\n",
       "  </tbody>\n",
       "</table>\n",
       "</div>"
      ],
      "text/plain": [
       "                                      Review  SENTIMEN predicted_sentiment\n",
       "0                     ខ្ញុំស្រលាញ់ផលិតផលនេះ។  positive             LABEL_1\n",
       "1                           សេវាកម្មល្អណាស់។  positive             LABEL_1\n",
       "2            ខ្ញុំពេញចិត្តជាមួយនឹងការទិញនេះ។  positive             LABEL_1\n",
       "3                   វាជាបទពិសោធន៍ដ៏អស្ចារ្យ។  positive             LABEL_1\n",
       "4   ការផ្តល់សេវាជួសជុលលឿន និងមានប្រសិទ្ធភាព។  positive             LABEL_1\n",
       "5            ខ្ញុំសូមណែនាំឲ្យមនុស្សផ្សេងទៀត។  positive             LABEL_1\n",
       "6                      ផលិតផលមានគុណភាពខ្ពស់។  positive             LABEL_1\n",
       "7                 វាមានតម្លៃសមរម្យនឹងគុណភាព។  positive             LABEL_1\n",
       "8                    សេវាកម្មអតិថិជនល្អណាស់។  positive             LABEL_1\n",
       "9                    បុគ្គលិករួសរាយរាក់ទាក់។  positive             LABEL_1\n",
       "10              ខ្ញុំមិនពេញចិត្តនឹងផលិតផលទេ។  negative             LABEL_0\n",
       "11              វាធ្វើអោយខ្ញុំខកចិត្តខ្លាំង។  negative             LABEL_0\n",
       "12                           សេវាកម្មយឺតពេក។  negative             LABEL_0\n",
       "13                       មិនសូវមានគុណភាពឡើយ។  negative             LABEL_0\n",
       "14                       វាអស់លុយឥតប្រយោជន៍។  negative             LABEL_0"
      ]
     },
     "execution_count": 18,
     "metadata": {},
     "output_type": "execute_result"
    }
   ],
   "source": [
    "# Predict Sentiment for All Reviews\n",
    "df[\"predicted_sentiment\"] = df[\"Review\"].apply(lambda x: khmer_sentiment(x)[0][\"label\"])\n",
    "\n",
    "df.head(15)\n"
   ]
  },
  {
   "cell_type": "code",
   "execution_count": 13,
   "id": "485b942d",
   "metadata": {},
   "outputs": [
    {
     "name": "stdout",
     "output_type": "stream",
     "text": [
      "✅ Prediction results saved to: dataset/predicted_khmer_sentiment.csv\n"
     ]
    }
   ],
   "source": [
    "# Save Results\n",
    "df.to_csv(\"predicted_khmer_sentiment.csv\", index=False)\n",
    "print(\"✅ Prediction results saved to: dataset/predicted_khmer_sentiment.csv\")\n"
   ]
  },
  {
   "cell_type": "code",
   "execution_count": 19,
   "id": "d4141888",
   "metadata": {},
   "outputs": [
    {
     "name": "stdout",
     "output_type": "stream",
     "text": [
      "              precision    recall  f1-score   support\n",
      "\n",
      "     LABEL_0       0.00      0.00      0.00       0.0\n",
      "     LABEL_1       0.00      0.00      0.00       0.0\n",
      "    negative       0.00      0.00      0.00      28.0\n",
      "    positive       0.00      0.00      0.00      20.0\n",
      "\n",
      "    accuracy                           0.00      48.0\n",
      "   macro avg       0.00      0.00      0.00      48.0\n",
      "weighted avg       0.00      0.00      0.00      48.0\n",
      "\n"
     ]
    },
    {
     "name": "stderr",
     "output_type": "stream",
     "text": [
      "/opt/miniconda3/envs/kh-sentiment/lib/python3.11/site-packages/sklearn/metrics/_classification.py:1565: UndefinedMetricWarning: Precision is ill-defined and being set to 0.0 in labels with no predicted samples. Use `zero_division` parameter to control this behavior.\n",
      "  _warn_prf(average, modifier, f\"{metric.capitalize()} is\", len(result))\n",
      "/opt/miniconda3/envs/kh-sentiment/lib/python3.11/site-packages/sklearn/metrics/_classification.py:1565: UndefinedMetricWarning: Recall is ill-defined and being set to 0.0 in labels with no true samples. Use `zero_division` parameter to control this behavior.\n",
      "  _warn_prf(average, modifier, f\"{metric.capitalize()} is\", len(result))\n",
      "/opt/miniconda3/envs/kh-sentiment/lib/python3.11/site-packages/sklearn/metrics/_classification.py:1565: UndefinedMetricWarning: Precision is ill-defined and being set to 0.0 in labels with no predicted samples. Use `zero_division` parameter to control this behavior.\n",
      "  _warn_prf(average, modifier, f\"{metric.capitalize()} is\", len(result))\n",
      "/opt/miniconda3/envs/kh-sentiment/lib/python3.11/site-packages/sklearn/metrics/_classification.py:1565: UndefinedMetricWarning: Recall is ill-defined and being set to 0.0 in labels with no true samples. Use `zero_division` parameter to control this behavior.\n",
      "  _warn_prf(average, modifier, f\"{metric.capitalize()} is\", len(result))\n",
      "/opt/miniconda3/envs/kh-sentiment/lib/python3.11/site-packages/sklearn/metrics/_classification.py:1565: UndefinedMetricWarning: Precision is ill-defined and being set to 0.0 in labels with no predicted samples. Use `zero_division` parameter to control this behavior.\n",
      "  _warn_prf(average, modifier, f\"{metric.capitalize()} is\", len(result))\n",
      "/opt/miniconda3/envs/kh-sentiment/lib/python3.11/site-packages/sklearn/metrics/_classification.py:1565: UndefinedMetricWarning: Recall is ill-defined and being set to 0.0 in labels with no true samples. Use `zero_division` parameter to control this behavior.\n",
      "  _warn_prf(average, modifier, f\"{metric.capitalize()} is\", len(result))\n"
     ]
    }
   ],
   "source": [
    "# Evaluate Accuracy if You Have True Labels\n",
    "\n",
    "\n",
    "from sklearn.metrics import classification_report\n",
    "print(classification_report(df[\"SENTIMEN\"], df[\"predicted_sentiment\"]))\n"
   ]
  }
 ],
 "metadata": {
  "kernelspec": {
   "display_name": "kh-sentiment",
   "language": "python",
   "name": "python3"
  },
  "language_info": {
   "codemirror_mode": {
    "name": "ipython",
    "version": 3
   },
   "file_extension": ".py",
   "mimetype": "text/x-python",
   "name": "python",
   "nbconvert_exporter": "python",
   "pygments_lexer": "ipython3",
   "version": "3.11.8"
  }
 },
 "nbformat": 4,
 "nbformat_minor": 5
}
